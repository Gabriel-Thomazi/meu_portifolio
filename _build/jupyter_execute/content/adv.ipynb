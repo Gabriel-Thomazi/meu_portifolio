{
 "cells": [
  {
   "cell_type": "markdown",
   "id": "b44ef47f-952b-41b5-aff6-9a5679b76332",
   "metadata": {},
   "source": [
    "# Análise de Vendas - Portfólio de Análise de Dados\n",
    "\n",
    "Neste notebook, o objetivo é demonstrar a análise de dados utilizando a biblioteca pandas. Serão abordados exercícios de diferentes níveis de complexidade para extrair insights dos dados relacionados a vendas, produtos, e clientes.\n",
    "\n",
    "O dataset contém informações sobre pedidos de produtos, e será analisado de maneira progressiva:\n",
    "- **Nível 1 (Básico)**: Operações iniciais com pandas\n",
    "- **Nível 2 (Intermediário)**: Agrupamentos, cálculos e filtros\n",
    "- **Nível 3 (Avançado)**: Análises temporais, análises por cliente e visualizações\n",
    "\n",
    "Vamos começar carregando e explorando o dataset."
   ]
  },
  {
   "cell_type": "markdown",
   "id": "bdb764d8-ae1d-4ae6-a1c8-6e8ebaa13485",
   "metadata": {},
   "source": [
    "## 2. Carregar e Explorar o Dataset\n",
    "\n",
    "1. Carregar o dataset."
   ]
  },
  {
   "cell_type": "code",
   "execution_count": 1,
   "id": "c01d7672-bb89-401d-812e-404a9e7ee26b",
   "metadata": {},
   "outputs": [],
   "source": [
    "# Importação das bibliotecas necessárias\n",
    "import pandas as pd\n",
    "import plotly.express as px\n",
    "import matplotlib.pyplot as plt\n",
    "from pathlib import Path\n",
    "import plotly.io as pio\n",
    "pio.renderers.default = \"notebook_connected\" # "
   ]
  },
  {
   "cell_type": "code",
   "execution_count": 2,
   "id": "ec6d5b78-a891-4508-bae1-7a3fbc319049",
   "metadata": {},
   "outputs": [],
   "source": [
    "# Evitar \"quebra\" da tabela\n",
    "pd.set_option(\"Display.max_columns\", None)\n",
    "pd.set_option(\"Display.width\", 1000)"
   ]
  },
  {
   "cell_type": "code",
   "execution_count": 3,
   "id": "b08d6ae1-2bf1-4999-8d1e-66c300d52998",
   "metadata": {},
   "outputs": [
    {
     "name": "stdout",
     "output_type": "stream",
     "text": [
      "    order_id        data  cliente_id         produto    categoria  quantidade  preco_unitario          cidade\n",
      "0          1  2024-01-01        1051        Notebook  Eletrônicos           3            2066  Rio de Janeiro\n",
      "1          2  2024-01-02        1092  Fone de Ouvido  Eletrônicos           2             143       São Paulo\n",
      "2          3  2024-01-03        1014           Livro       Livros           4              48  Belo Horizonte\n",
      "3          4  2024-01-04        1071        Notebook  Eletrônicos           3            3444  Belo Horizonte\n",
      "4          5  2024-01-05        1060        Camiseta       Roupas           1              61       São Paulo\n",
      "5          6  2024-01-06        1020      Smartphone  Eletrônicos           2            2430        Salvador\n",
      "6          7  2024-01-07        1082           Tênis       Roupas           3              95       São Paulo\n",
      "7          8  2024-01-08        1086        Camiseta       Roupas           2             179  Rio de Janeiro\n",
      "8          9  2024-01-09        1074  Fone de Ouvido  Eletrônicos           3             352       São Paulo\n",
      "9         10  2024-01-10        1074        Notebook  Eletrônicos           2            3546  Belo Horizonte\n",
      "10        11  2024-01-11        1087           Tênis       Roupas           1              84       São Paulo\n",
      "11        12  2024-01-12        1099        Notebook  Eletrônicos           4            3774        Salvador\n",
      "12        13  2024-01-13        1023  Fone de Ouvido  Eletrônicos           1             436        Curitiba\n",
      "13        14  2024-01-14        1002        Notebook  Eletrônicos           4            1089       São Paulo\n",
      "14        15  2024-01-15        1021      Smartphone  Eletrônicos           2            1575        Salvador\n",
      "15        16  2024-01-16        1052           Tênis       Roupas           3             142        Salvador\n",
      "16        17  2024-01-17        1001           Tênis       Roupas           1             139  Belo Horizonte\n",
      "17        18  2024-01-18        1087  Fone de Ouvido  Eletrônicos           4             214        Salvador\n",
      "18        19  2024-01-19        1029      Smartphone  Eletrônicos           1            1416        Salvador\n",
      "19        20  2024-01-20        1037        Camiseta       Roupas           4             184        Salvador\n",
      "20        21  2024-01-21        1001        Notebook  Eletrônicos           1            1825        Salvador\n",
      "21        22  2024-01-22        1063           Livro       Livros           4              94  Rio de Janeiro\n",
      "22        23  2024-01-23        1059        Notebook  Eletrônicos           4            1412  Rio de Janeiro\n",
      "23        24  2024-01-24        1020        Notebook  Eletrônicos           2            1728  Belo Horizonte\n",
      "24        25  2024-01-25        1032        Camiseta       Roupas           4              70       São Paulo\n",
      "25        26  2024-01-26        1075        Notebook  Eletrônicos           2            3808        Salvador\n",
      "26        27  2024-01-27        1057      Smartphone  Eletrônicos           4            1475       São Paulo\n",
      "27        28  2024-01-28        1021      Smartphone  Eletrônicos           3            2217       São Paulo\n",
      "28        29  2024-01-29        1088           Tênis       Roupas           3             150  Belo Horizonte\n",
      "29        30  2024-01-30        1048  Fone de Ouvido  Eletrônicos           3             291        Salvador\n"
     ]
    }
   ],
   "source": [
    "# Utilizo Path.home() para acessar o caminho da pasta do usuário atual, dessa forma o código fica mais portável e limpo.\n",
    "caminho = Path.home() / \"Downloads\" / \"vendas_loja.csv\" \n",
    "\n",
    "# Utilizo o pandas para ler o arquivo csv e transforma-lo em tabela.\n",
    "data = pd.read_csv(caminho)\n",
    "print(data.head(30))"
   ]
  },
  {
   "cell_type": "markdown",
   "id": "09911fbe-e7e3-4bed-916b-22065feb2531",
   "metadata": {},
   "source": [
    "2. Exibir as 5 primeiras e 5 últimas linhas."
   ]
  },
  {
   "cell_type": "code",
   "execution_count": 4,
   "id": "fe831369-4b32-419c-8397-71fa4c620215",
   "metadata": {},
   "outputs": [
    {
     "name": "stdout",
     "output_type": "stream",
     "text": [
      "   order_id        data  cliente_id         produto    categoria  quantidade  preco_unitario          cidade\n",
      "0         1  2024-01-01        1051        Notebook  Eletrônicos           3            2066  Rio de Janeiro\n",
      "1         2  2024-01-02        1092  Fone de Ouvido  Eletrônicos           2             143       São Paulo\n",
      "2         3  2024-01-03        1014           Livro       Livros           4              48  Belo Horizonte\n",
      "3         4  2024-01-04        1071        Notebook  Eletrônicos           3            3444  Belo Horizonte\n",
      "4         5  2024-01-05        1060        Camiseta       Roupas           1              61       São Paulo\n"
     ]
    }
   ],
   "source": [
    "print(data.head(5))"
   ]
  },
  {
   "cell_type": "code",
   "execution_count": 5,
   "id": "c46d1e12-fa38-4a1d-b14d-fde2c5b89a78",
   "metadata": {},
   "outputs": [
    {
     "name": "stdout",
     "output_type": "stream",
     "text": [
      "     order_id        data  cliente_id     produto    categoria  quantidade  preco_unitario          cidade\n",
      "195       196  2024-07-14        1076  Smartphone  Eletrônicos           4            1023  Belo Horizonte\n",
      "196       197  2024-07-15        1002  Smartphone  Eletrônicos           3            2062        Curitiba\n",
      "197       198  2024-07-16        1069    Notebook  Eletrônicos           1            3224       São Paulo\n",
      "198       199  2024-07-17        1071    Notebook  Eletrônicos           1            2802  Belo Horizonte\n",
      "199       200  2024-07-18        1026    Notebook  Eletrônicos           4            1852       São Paulo\n"
     ]
    }
   ],
   "source": [
    "print(data.tail(5))"
   ]
  },
  {
   "cell_type": "markdown",
   "id": "cdf055be-c32d-4f25-956b-14efe27ac53b",
   "metadata": {},
   "source": [
    "3. Verificar o número de linhas e colunas."
   ]
  },
  {
   "cell_type": "code",
   "execution_count": 6,
   "id": "41afd3d6-05df-463a-aa10-c6722c733e70",
   "metadata": {},
   "outputs": [
    {
     "name": "stdout",
     "output_type": "stream",
     "text": [
      "Número de linhas contidas na tabela: 200\n",
      "Número de colunas contidas na tabela: 8\n"
     ]
    }
   ],
   "source": [
    "# Mostrar o numero total de linhas e colunas da tabela\n",
    "linhas, colunas = data.shape\n",
    "\n",
    "print(f\"Número de linhas contidas na tabela: {linhas}\")\n",
    "print(f\"Número de colunas contidas na tabela: {colunas}\")"
   ]
  },
  {
   "cell_type": "markdown",
   "id": "3319cb65-5320-41d9-82af-52be18cc5736",
   "metadata": {},
   "source": [
    "4. Verificar o tipo de cada coluna."
   ]
  },
  {
   "cell_type": "code",
   "execution_count": 7,
   "id": "a5c46d66-6e27-4841-9190-59dcacb4c989",
   "metadata": {},
   "outputs": [
    {
     "name": "stdout",
     "output_type": "stream",
     "text": [
      "<class 'pandas.core.frame.DataFrame'>\n",
      "RangeIndex: 200 entries, 0 to 199\n",
      "Data columns (total 8 columns):\n",
      " #   Column          Non-Null Count  Dtype \n",
      "---  ------          --------------  ----- \n",
      " 0   order_id        200 non-null    int64 \n",
      " 1   data            200 non-null    object\n",
      " 2   cliente_id      200 non-null    int64 \n",
      " 3   produto         200 non-null    object\n",
      " 4   categoria       200 non-null    object\n",
      " 5   quantidade      200 non-null    int64 \n",
      " 6   preco_unitario  200 non-null    int64 \n",
      " 7   cidade          200 non-null    object\n",
      "dtypes: int64(4), object(4)\n",
      "memory usage: 12.6+ KB\n",
      "None\n"
     ]
    }
   ],
   "source": [
    "# Tipo de cada coluna\n",
    "print(data.info())"
   ]
  },
  {
   "cell_type": "code",
   "execution_count": 8,
   "id": "1f258415-3200-4b1e-95b7-faf868356d16",
   "metadata": {},
   "outputs": [
    {
     "name": "stdout",
     "output_type": "stream",
     "text": [
      "order_id           int64\n",
      "data              object\n",
      "cliente_id         int64\n",
      "produto           object\n",
      "categoria         object\n",
      "quantidade         int64\n",
      "preco_unitario     int64\n",
      "cidade            object\n",
      "dtype: object\n"
     ]
    }
   ],
   "source": [
    "print(data.dtypes)"
   ]
  },
  {
   "cell_type": "markdown",
   "id": "47c12d18-e912-413c-b63c-d52c1a6937fe",
   "metadata": {},
   "source": [
    "5. Exibir estatísticas descritivas do dataset."
   ]
  },
  {
   "cell_type": "code",
   "execution_count": 9,
   "id": "55067c03-61c5-4c78-918a-0a8d6711c5c7",
   "metadata": {},
   "outputs": [
    {
     "name": "stdout",
     "output_type": "stream",
     "text": [
      "861.78\n"
     ]
    }
   ],
   "source": [
    "# Média de preço dos produtos\n",
    "media_precos = data['preco_unitario'].mean()\n",
    "print(media_precos)"
   ]
  },
  {
   "cell_type": "code",
   "execution_count": 10,
   "id": "75d74526-bfdd-4269-bfe3-a5362ddafe9f",
   "metadata": {},
   "outputs": [
    {
     "name": "stdout",
     "output_type": "stream",
     "text": [
      "2.53\n"
     ]
    }
   ],
   "source": [
    "# Média da quantidade comprada por pedido\n",
    "\n",
    "media_compra = data['quantidade'].mean()\n",
    "print(media_compra)"
   ]
  },
  {
   "cell_type": "markdown",
   "id": "1370f634-5b3d-4769-878e-152339b775bd",
   "metadata": {},
   "source": [
    "## 3. Nível 1 — Básico\n",
    "\n",
    "### 3.2 Seleção de Dados\n",
    "\n",
    "- Exiba todos os **pedidos feitos na cidade \"São Paulo\"**."
   ]
  },
  {
   "cell_type": "code",
   "execution_count": 11,
   "id": "fbb2014f-da49-4a09-9645-fdea86c89131",
   "metadata": {},
   "outputs": [
    {
     "name": "stdout",
     "output_type": "stream",
     "text": [
      "     order_id        data  cliente_id         produto    categoria  quantidade  preco_unitario     cidade\n",
      "1           2  2024-01-02        1092  Fone de Ouvido  Eletrônicos           2             143  São Paulo\n",
      "4           5  2024-01-05        1060        Camiseta       Roupas           1              61  São Paulo\n",
      "6           7  2024-01-07        1082           Tênis       Roupas           3              95  São Paulo\n",
      "8           9  2024-01-09        1074  Fone de Ouvido  Eletrônicos           3             352  São Paulo\n",
      "10         11  2024-01-11        1087           Tênis       Roupas           1              84  São Paulo\n",
      "13         14  2024-01-14        1002        Notebook  Eletrônicos           4            1089  São Paulo\n",
      "24         25  2024-01-25        1032        Camiseta       Roupas           4              70  São Paulo\n",
      "26         27  2024-01-27        1057      Smartphone  Eletrônicos           4            1475  São Paulo\n",
      "27         28  2024-01-28        1021      Smartphone  Eletrônicos           3            2217  São Paulo\n",
      "32         33  2024-02-02        1041        Notebook  Eletrônicos           2            2571  São Paulo\n",
      "33         34  2024-02-03        1091        Camiseta       Roupas           4             145  São Paulo\n",
      "43         44  2024-02-13        1063        Notebook  Eletrônicos           2            1872  São Paulo\n",
      "47         48  2024-02-17        1020      Smartphone  Eletrônicos           1             861  São Paulo\n",
      "48         49  2024-02-18        1072  Fone de Ouvido  Eletrônicos           4             183  São Paulo\n",
      "63         64  2024-03-04        1043      Smartphone  Eletrônicos           3            1650  São Paulo\n",
      "64         65  2024-03-05        1007        Camiseta       Roupas           4             160  São Paulo\n",
      "68         69  2024-03-09        1080        Notebook  Eletrônicos           4            1395  São Paulo\n",
      "73         74  2024-03-14        1005           Tênis       Roupas           4             193  São Paulo\n",
      "75         76  2024-03-16        1003        Notebook  Eletrônicos           4            2062  São Paulo\n",
      "87         88  2024-03-28        1094        Notebook  Eletrônicos           2            1953  São Paulo\n",
      "91         92  2024-04-01        1077           Livro       Livros           2              32  São Paulo\n",
      "108       109  2024-04-18        1088        Camiseta       Roupas           4              85  São Paulo\n",
      "110       111  2024-04-20        1008        Notebook  Eletrônicos           4            2810  São Paulo\n",
      "114       115  2024-04-24        1087      Smartphone  Eletrônicos           4             890  São Paulo\n",
      "118       119  2024-04-28        1007  Fone de Ouvido  Eletrônicos           3             225  São Paulo\n",
      "120       121  2024-04-30        1034           Livro       Livros           2              77  São Paulo\n",
      "121       122  2024-05-01        1032        Notebook  Eletrônicos           1            2683  São Paulo\n",
      "124       125  2024-05-04        1027           Tênis       Roupas           4             154  São Paulo\n",
      "127       128  2024-05-07        1071           Livro       Livros           3              22  São Paulo\n",
      "128       129  2024-05-08        1011           Tênis       Roupas           1             141  São Paulo\n",
      "147       148  2024-05-27        1004           Livro       Livros           1              37  São Paulo\n",
      "151       152  2024-05-31        1008        Notebook  Eletrônicos           2            2549  São Paulo\n",
      "152       153  2024-06-01        1078           Livro       Livros           2              34  São Paulo\n",
      "155       156  2024-06-04        1041        Camiseta       Roupas           2             167  São Paulo\n",
      "156       157  2024-06-05        1076           Tênis       Roupas           2              52  São Paulo\n",
      "159       160  2024-06-08        1095        Notebook  Eletrônicos           4            2035  São Paulo\n",
      "163       164  2024-06-12        1093           Livro       Livros           2              95  São Paulo\n",
      "168       169  2024-06-17        1035           Tênis       Roupas           1             139  São Paulo\n",
      "172       173  2024-06-21        1058        Notebook  Eletrônicos           4            1539  São Paulo\n",
      "181       182  2024-06-30        1027        Notebook  Eletrônicos           4            2838  São Paulo\n",
      "182       183  2024-07-01        1027        Camiseta       Roupas           3              59  São Paulo\n",
      "187       188  2024-07-06        1074      Smartphone  Eletrônicos           3            1676  São Paulo\n",
      "197       198  2024-07-16        1069        Notebook  Eletrônicos           1            3224  São Paulo\n",
      "199       200  2024-07-18        1026        Notebook  Eletrônicos           4            1852  São Paulo\n"
     ]
    }
   ],
   "source": [
    "cidades_sao_paulo = data.query(\"cidade == 'São Paulo'\")\n",
    "print(cidades_sao_paulo)"
   ]
  },
  {
   "cell_type": "markdown",
   "id": "161fd307-e513-46e9-9483-a75501696932",
   "metadata": {},
   "source": [
    "- Exiba apenas as **colunas \"produto\"** e **\"preco_unitario\"** das 10 primeiras linhas."
   ]
  },
  {
   "cell_type": "code",
   "execution_count": 12,
   "id": "5c2287eb-246e-44e6-b2fe-e0d89bcf51e3",
   "metadata": {},
   "outputs": [
    {
     "name": "stdout",
     "output_type": "stream",
     "text": [
      "          produto  preco_unitario\n",
      "0        Notebook            2066\n",
      "1  Fone de Ouvido             143\n",
      "2           Livro              48\n",
      "3        Notebook            3444\n",
      "4        Camiseta              61\n",
      "5      Smartphone            2430\n",
      "6           Tênis              95\n",
      "7        Camiseta             179\n",
      "8  Fone de Ouvido             352\n",
      "9        Notebook            3546\n"
     ]
    }
   ],
   "source": [
    "duas_colunas = data[['produto', 'preco_unitario']]\n",
    "print(duas_colunas.head(10))"
   ]
  },
  {
   "cell_type": "markdown",
   "id": "c5f5054c-7cb9-43bd-9188-8f67d6518243",
   "metadata": {},
   "source": [
    "## 4. Nível 2 — Intermediário\n",
    "\n",
    "### 4.1 Criar Coluna Calculada\n",
    "- Adicione uma coluna **\"receita\"** (quantidade * preco_unitario)."
   ]
  },
  {
   "cell_type": "code",
   "execution_count": 13,
   "id": "d6cbeeee-8983-4e24-b36b-67253817d2b2",
   "metadata": {},
   "outputs": [
    {
     "name": "stdout",
     "output_type": "stream",
     "text": [
      "   order_id        data  cliente_id         produto    categoria  quantidade  preco_unitario          cidade  receita\n",
      "0         1  2024-01-01        1051        Notebook  Eletrônicos           3            2066  Rio de Janeiro     6198\n",
      "1         2  2024-01-02        1092  Fone de Ouvido  Eletrônicos           2             143       São Paulo      286\n",
      "2         3  2024-01-03        1014           Livro       Livros           4              48  Belo Horizonte      192\n",
      "3         4  2024-01-04        1071        Notebook  Eletrônicos           3            3444  Belo Horizonte    10332\n",
      "4         5  2024-01-05        1060        Camiseta       Roupas           1              61       São Paulo       61\n"
     ]
    }
   ],
   "source": [
    "# Adicionando uma nova coluna chamada receita \n",
    "\n",
    "data['receita'] = data['quantidade'] * data['preco_unitario']\n",
    "print(data.head(5))"
   ]
  },
  {
   "cell_type": "markdown",
   "id": "521bb843-037b-43bb-ba81-7a7d86f1e12a",
   "metadata": {},
   "source": [
    "### 4.2 Filtros\n",
    "\n",
    "- Mostre apenas os pedidos de **\"Smartphone\"** com quantidade maior que 2."
   ]
  },
  {
   "cell_type": "code",
   "execution_count": 14,
   "id": "7d635d95-8055-40a4-9e16-c5f94cd9c1ea",
   "metadata": {},
   "outputs": [
    {
     "name": "stdout",
     "output_type": "stream",
     "text": [
      "     order_id        data  cliente_id     produto    categoria  quantidade  preco_unitario          cidade  receita\n",
      "26         27  2024-01-27        1057  Smartphone  Eletrônicos           4            1475       São Paulo     5900\n",
      "27         28  2024-01-28        1021  Smartphone  Eletrônicos           3            2217       São Paulo     6651\n",
      "35         36  2024-02-05        1079  Smartphone  Eletrônicos           3            1462        Curitiba     4386\n",
      "63         64  2024-03-04        1043  Smartphone  Eletrônicos           3            1650       São Paulo     4950\n",
      "70         71  2024-03-11        1049  Smartphone  Eletrônicos           3            1690        Salvador     5070\n",
      "78         79  2024-03-19        1062  Smartphone  Eletrônicos           4            1865        Salvador     7460\n",
      "81         82  2024-03-22        1043  Smartphone  Eletrônicos           3            1956  Rio de Janeiro     5868\n",
      "86         87  2024-03-27        1013  Smartphone  Eletrônicos           4            1387  Belo Horizonte     5548\n",
      "114       115  2024-04-24        1087  Smartphone  Eletrônicos           4             890       São Paulo     3560\n",
      "116       117  2024-04-26        1010  Smartphone  Eletrônicos           3            2354        Salvador     7062\n",
      "117       118  2024-04-27        1080  Smartphone  Eletrônicos           4             838  Belo Horizonte     3352\n",
      "146       147  2024-05-26        1000  Smartphone  Eletrônicos           4            2264  Belo Horizonte     9056\n",
      "183       184  2024-07-02        1043  Smartphone  Eletrônicos           4            1623        Salvador     6492\n",
      "185       186  2024-07-04        1029  Smartphone  Eletrônicos           4            2065        Curitiba     8260\n",
      "187       188  2024-07-06        1074  Smartphone  Eletrônicos           3            1676       São Paulo     5028\n",
      "192       193  2024-07-11        1000  Smartphone  Eletrônicos           3            1173  Rio de Janeiro     3519\n",
      "195       196  2024-07-14        1076  Smartphone  Eletrônicos           4            1023  Belo Horizonte     4092\n",
      "196       197  2024-07-15        1002  Smartphone  Eletrônicos           3            2062        Curitiba     6186\n"
     ]
    }
   ],
   "source": [
    "smartphone_maior2 = data.query(\"produto == 'Smartphone' and quantidade > 2\")\n",
    "print(smartphone_maior2)"
   ]
  },
  {
   "cell_type": "markdown",
   "id": "d8b0cdbe-8652-4557-b765-f2e0e2c9611b",
   "metadata": {},
   "source": [
    "- Mostre apenas os pedidos feitos em **\"Curitiba\"** com receita acima de 2000."
   ]
  },
  {
   "cell_type": "code",
   "execution_count": 15,
   "id": "f0de21d9-4782-4244-91b2-8317be828b04",
   "metadata": {},
   "outputs": [
    {
     "name": "stdout",
     "output_type": "stream",
     "text": [
      "     order_id        data  cliente_id     produto    categoria  quantidade  preco_unitario    cidade  receita\n",
      "31         32  2024-02-01        1058    Notebook  Eletrônicos           2            2122  Curitiba     4244\n",
      "35         36  2024-02-05        1079  Smartphone  Eletrônicos           3            1462  Curitiba     4386\n",
      "71         72  2024-03-12        1003    Notebook  Eletrônicos           3            2492  Curitiba     7476\n",
      "149       150  2024-05-29        1013    Notebook  Eletrônicos           4            2256  Curitiba     9024\n",
      "169       170  2024-06-18        1012    Notebook  Eletrônicos           4            3745  Curitiba    14980\n",
      "185       186  2024-07-04        1029  Smartphone  Eletrônicos           4            2065  Curitiba     8260\n",
      "196       197  2024-07-15        1002  Smartphone  Eletrônicos           3            2062  Curitiba     6186\n"
     ]
    }
   ],
   "source": [
    "curitiba_maior2000 = data.query(\"cidade == 'Curitiba' and receita > 2000\")\n",
    "print(curitiba_maior2000)"
   ]
  },
  {
   "cell_type": "markdown",
   "id": "6843b14b-c844-46ca-a971-f28610d5872b",
   "metadata": {},
   "source": [
    "### 4.3 Agrupamentos\n",
    "\n",
    "- Calcule a **receita total por cidade**."
   ]
  },
  {
   "cell_type": "code",
   "execution_count": 16,
   "id": "76cdffb2-6e72-4dc7-814a-e107e86a2c21",
   "metadata": {},
   "outputs": [
    {
     "name": "stdout",
     "output_type": "stream",
     "text": [
      "cidade\n",
      "Belo Horizonte     96679\n",
      "Curitiba           66575\n",
      "Rio de Janeiro     70292\n",
      "Salvador           97645\n",
      "São Paulo         121108\n",
      "Name: receita, dtype: int64\n"
     ]
    }
   ],
   "source": [
    "receita_total_por_cidade = data.groupby('cidade')['receita'].sum()\n",
    "print(receita_total_por_cidade)"
   ]
  },
  {
   "cell_type": "markdown",
   "id": "fe01ebfe-a668-40aa-ac3d-e1af6f48c0f2",
   "metadata": {},
   "source": [
    "- Calcule a **receita total por categoria de produto**."
   ]
  },
  {
   "cell_type": "code",
   "execution_count": 17,
   "id": "47c3386e-30e0-4898-bc21-d822ac3bd651",
   "metadata": {},
   "outputs": [
    {
     "name": "stdout",
     "output_type": "stream",
     "text": [
      "categoria\n",
      "Eletrônicos    425953\n",
      "Livros           3036\n",
      "Roupas          23310\n",
      "Name: receita, dtype: int64\n"
     ]
    }
   ],
   "source": [
    "# Receita total por categoria de produto\n",
    "receita_total_por_categoria = data.groupby('categoria')['receita'].sum()\n",
    "print(receita_total_por_categoria)"
   ]
  },
  {
   "cell_type": "markdown",
   "id": "a02716fa-75d6-4e88-90b6-9e5ae39f1981",
   "metadata": {},
   "source": [
    "- Calcule a **receita média por cliente**."
   ]
  },
  {
   "cell_type": "code",
   "execution_count": 18,
   "id": "f4db86f7-ea94-4a9b-bcde-9b3b2bda8f49",
   "metadata": {},
   "outputs": [
    {
     "name": "stdout",
     "output_type": "stream",
     "text": [
      "cliente_id\n",
      "1000     4926.666667\n",
      "1001      598.750000\n",
      "1002     2862.500000\n",
      "1003     5320.750000\n",
      "1004      183.500000\n",
      "            ...     \n",
      "1094     3906.000000\n",
      "1095     4200.000000\n",
      "1096      388.000000\n",
      "1098      394.000000\n",
      "1099    10173.000000\n",
      "Name: receita, Length: 87, dtype: float64\n"
     ]
    }
   ],
   "source": [
    "# Receita média por cliente\n",
    "\n",
    "receita_media_por_cliente = data.groupby('cliente_id')['receita'].mean()\n",
    "print(receita_media_por_cliente)"
   ]
  },
  {
   "cell_type": "markdown",
   "id": "f0b21600-9743-405e-83f7-75102c0582d7",
   "metadata": {},
   "source": [
    "### 4.4 Ordenações\n",
    "\n",
    "- Liste os **5 produtos mais vendidos** (quantidade)."
   ]
  },
  {
   "cell_type": "code",
   "execution_count": 19,
   "id": "52d101a9-91e3-4821-96ca-ca9707d77063",
   "metadata": {},
   "outputs": [
    {
     "name": "stdout",
     "output_type": "stream",
     "text": [
      "produto\n",
      "Notebook          117\n",
      "Camiseta           97\n",
      "Fone de Ouvido     84\n",
      "Tênis              83\n",
      "Smartphone         73\n",
      "Name: quantidade, dtype: int64\n"
     ]
    }
   ],
   "source": [
    "mais_vendidos = data.groupby('produto')['quantidade'].sum()\n",
    "print(mais_vendidos.nlargest(5))"
   ]
  },
  {
   "cell_type": "markdown",
   "id": "2a4f87b4-ff98-40c1-905c-2460b9f0ab76",
   "metadata": {},
   "source": [
    "- Liste os **5 produtos que mais geraram receita**."
   ]
  },
  {
   "cell_type": "code",
   "execution_count": 20,
   "id": "ed57bd43-c7de-4dd8-9fa0-2cc2d0447d38",
   "metadata": {},
   "outputs": [
    {
     "name": "stdout",
     "output_type": "stream",
     "text": [
      "produto\n",
      "Notebook          282611\n",
      "Smartphone        118587\n",
      "Fone de Ouvido     24755\n",
      "Camiseta           12950\n",
      "Tênis              10360\n",
      "Name: receita, dtype: int64\n"
     ]
    }
   ],
   "source": [
    "mais_receita = data.groupby('produto')['receita'].sum()\n",
    "print(mais_receita.nlargest(5))"
   ]
  },
  {
   "cell_type": "markdown",
   "id": "5bfa9538-16b9-4f20-8619-2bf62ac9fc4f",
   "metadata": {},
   "source": [
    "## 5. Nível 3 — Avançado\n",
    "\n",
    "### 5.1 Análise Temporal\n",
    "\n",
    "- Qual foi o **total de receita por mês**?"
   ]
  },
  {
   "cell_type": "code",
   "execution_count": 21,
   "id": "7acd11a7-36db-42d3-a0b3-c3c46959aadc",
   "metadata": {},
   "outputs": [
    {
     "name": "stdout",
     "output_type": "stream",
     "text": [
      "ano_mes\n",
      "2024-01    90762\n",
      "2024-02    36566\n",
      "2024-03    92413\n",
      "2024-04    65776\n",
      "2024-05    52012\n",
      "2024-06    55770\n",
      "2024-07    59000\n",
      "Freq: M, Name: receita, dtype: int64\n"
     ]
    }
   ],
   "source": [
    "# Qual foi o total de receita por mês?\n",
    "\n",
    "# certificando que a coluna data esteja no formato datetime\n",
    "data['data'] = pd.to_datetime(data['data'])\n",
    "\n",
    "data['ano_mes'] = data['data'].dt.to_period('M')\n",
    "\n",
    "receita_total_mes = data.groupby('ano_mes')['receita'].sum()\n",
    "\n",
    "print(receita_total_mes)"
   ]
  },
  {
   "cell_type": "markdown",
   "id": "032c3d81-db45-48f1-8cb0-cd92dbd55ef3",
   "metadata": {},
   "source": [
    "- Qual **mês teve mais vendas** (quantidade)?"
   ]
  },
  {
   "cell_type": "code",
   "execution_count": 22,
   "id": "751a86ac-285b-4c2d-ab1e-acbe6eb54a31",
   "metadata": {},
   "outputs": [
    {
     "name": "stdout",
     "output_type": "stream",
     "text": [
      "O mes com mais vendas foi 2024-03 com uma quantidade de vendas igual a 87\n"
     ]
    }
   ],
   "source": [
    "qnt_vendas_mes = data.groupby('ano_mes')['quantidade'].sum()\n",
    "mes_mais_vendas = qnt_vendas_mes.idxmax()\n",
    "vendas_max = qnt_vendas_mes.max()\n",
    "print(f\"O mes com mais vendas foi {mes_mais_vendas} com uma quantidade de vendas igual a {vendas_max}\")"
   ]
  },
  {
   "cell_type": "markdown",
   "id": "91de2e38-2325-4040-8af9-92956d862298",
   "metadata": {},
   "source": [
    "### 5.2 Clientes\n",
    "\n",
    "- Quem são os **5 clientes que mais compraram em quantidade**?"
   ]
  },
  {
   "cell_type": "code",
   "execution_count": 23,
   "id": "a01d8181-6d07-4d0b-af82-29f1eb750dcf",
   "metadata": {},
   "outputs": [
    {
     "name": "stdout",
     "output_type": "stream",
     "text": [
      "cliente_id\n",
      "1061    21\n",
      "1014    16\n",
      "1059    15\n",
      "1027    15\n",
      "1003    13\n",
      "Name: quantidade, dtype: int64\n"
     ]
    }
   ],
   "source": [
    "mais_compraram = data.groupby('cliente_id')['quantidade'].sum()\n",
    "mais_compraram = mais_compraram.sort_values(ascending=False)\n",
    "print(mais_compraram.head(5))"
   ]
  },
  {
   "cell_type": "markdown",
   "id": "ac600caf-4b7b-4312-898a-903a37eab293",
   "metadata": {},
   "source": [
    "- Quem são os **5 clientes que mais geraram receita**?"
   ]
  },
  {
   "cell_type": "code",
   "execution_count": 24,
   "id": "fa8bcd94-6af8-4d71-84d9-c6a9f3f6934e",
   "metadata": {},
   "outputs": [
    {
     "name": "stdout",
     "output_type": "stream",
     "text": [
      "cliente_id\n",
      "1003    21283\n",
      "1099    20346\n",
      "1043    17828\n",
      "1008    16833\n",
      "1061    15483\n",
      "Name: receita, dtype: int64\n"
     ]
    }
   ],
   "source": [
    "cliente_mais_receita = data.groupby('cliente_id')['receita'].sum()\n",
    "cliente_mais_receita = cliente_mais_receita.sort_values(ascending=False)\n",
    "print(cliente_mais_receita.head(5))"
   ]
  },
  {
   "cell_type": "markdown",
   "id": "077de010-2207-407e-bf68-c91b5d421301",
   "metadata": {},
   "source": [
    "### 5.3 Visualizações\n",
    "\n",
    "- Crie um **gráfico de barras** da **receita por cidade**."
   ]
  },
  {
   "cell_type": "code",
   "execution_count": 25,
   "id": "a526f302-cfcf-49c4-8927-0e1e64f2a49a",
   "metadata": {},
   "outputs": [
    {
     "data": {
      "image/png": "[encoded data removed]",
      "text/plain": [
       "<Figure size 1000x600 with 1 Axes>"
      ]
     },
     "metadata": {},
     "output_type": "display_data"
    }
   ],
   "source": [
    "receita_cidade = data.groupby('cidade')['receita'].sum()\n",
    "plt.figure(figsize=(10,6)) # tamanho do grafico\n",
    "receita_cidade.plot(kind='bar', color='skyblue') # \"bar\" para definir grafico de barras\n",
    "plt.title('Receita Total Por Cidade')\n",
    "plt.xlabel('Cidade')\n",
    "plt.ylabel('Receita')\n",
    "plt.tight_layout()  # Ajustar layout para não cortar os rótulos\n",
    "plt.show()"
   ]
  },
  {
   "cell_type": "markdown",
   "id": "f958ba66-2f93-4c54-9aa4-815bdaae7d64",
   "metadata": {},
   "source": [
    "- Crie um **gráfico de linhas** mostrando a **evolução da receita** ao longo do tempo."
   ]
  },
  {
   "cell_type": "code",
   "execution_count": 26,
   "id": "a31c0367-313a-4eaf-a526-c0156cf3aed0",
   "metadata": {},
   "outputs": [
    {
     "data": {
      "image/png": "[encoded data removed]",
      "text/plain": [
       "<Figure size 1000x600 with 1 Axes>"
      ]
     },
     "metadata": {},
     "output_type": "display_data"
    }
   ],
   "source": [
    "evol_receita = data.groupby('ano_mes')['receita'].sum()\n",
    "evol_receita = evol_receita.sort_index(ascending=True)\n",
    "\n",
    "plt.figure(figsize=(10, 6))\n",
    "evol_receita.plot(kind='line', color='green')\n",
    "\n",
    "plt.title('Evolução da Receita ao Longo do Tempo')\n",
    "plt.xlabel(\"Ano e Mês\")\n",
    "plt.ylabel(\"Receita\")\n",
    "plt.tight_layout()\n",
    "plt.show()"
   ]
  },
  {
   "cell_type": "markdown",
   "id": "e0783ae6-9246-4502-b627-528df8d0562a",
   "metadata": {},
   "source": [
    "- Crie um **gráfico de pizza** mostrando a **participação de cada categoria** na receita total."
   ]
  },
  {
   "cell_type": "code",
   "execution_count": 27,
   "id": "5a84ff37-28f5-40c5-a98e-9d2d142717b9",
   "metadata": {},
   "outputs": [
    {
     "data": {
      "image/png": "[encoded data removed]",
      "text/plain": [
       "<Figure size 800x800 with 1 Axes>"
      ]
     },
     "metadata": {},
     "output_type": "display_data"
    }
   ],
   "source": [
    "part_por_categoria = data.groupby('categoria')['receita'].sum()\n",
    "\n",
    "plt.figure(figsize=(8, 8))\n",
    "part_por_categoria.plot(kind='pie', autopct='%1.1f%%', startangle=90, cmap='tab10')\n",
    "\n",
    "plt.title(\"Participação por categoria na receita total\")\n",
    "plt.ylabel('') # Diferente dos demais gráficos, no de pizza não é necessário o eixo y.\n",
    "plt.tight_layout()\n",
    "plt.show()"
   ]
  },
  {
   "cell_type": "markdown",
   "id": "89f58ffc-1094-4c07-a7ef-3ce44a8c68c7",
   "metadata": {},
   "source": [
    "## 6. Mini Dashboard interativo"
   ]
  },
  {
   "cell_type": "code",
   "execution_count": 28,
   "id": "5140318d-e07d-4751-ba21-1eb3b0602859",
   "metadata": {},
   "outputs": [
    {
     "data": {
      "text/html": [
       "        <script type=\"text/javascript\">\n",
       "        window.PlotlyConfig = {MathJaxConfig: 'local'};\n",
       "        if (window.MathJax && window.MathJax.Hub && window.MathJax.Hub.Config) {window.MathJax.Hub.Config({SVG: {font: \"STIX-Web\"}});}\n",
       "        if (typeof require !== 'undefined') {\n",
       "        require.undef(\"plotly\");\n",
       "        requirejs.config({\n",
       "            paths: {\n",
       "                'plotly': ['https://cdn.plot.ly/plotly-2.35.2.min']\n",
       "            }\n",
       "        });\n",
       "        require(['plotly'], function(Plotly) {\n",
       "            window._Plotly = Plotly;\n",
       "        });\n",
       "        }\n",
       "        </script>\n",
       "        "
      ]
     },
     "metadata": {},
     "output_type": "display_data"
    },
    {
     "data": {
      "text/html": [
       "<div>                            <div id=\"3e786ee8-b485-4676-b388-5d7b90371e0d\" class=\"plotly-graph-div\" style=\"height:525px; width:100%;\"></div>            <script type=\"text/javascript\">                require([\"plotly\"], function(Plotly) {                    window.PLOTLYENV=window.PLOTLYENV || {};                                    if (document.getElementById(\"3e786ee8-b485-4676-b388-5d7b90371e0d\")) {                    Plotly.newPlot(                        \"3e786ee8-b485-4676-b388-5d7b90371e0d\",                        [{\"alignmentgroup\":\"True\",\"hovertemplate\":\"Cidade=%{x}\\u003cbr\\u003eReceita=%{y}\\u003cextra\\u003e\\u003c\\u002fextra\\u003e\",\"legendgroup\":\"Belo Horizonte\",\"marker\":{\"color\":\"#636efa\",\"pattern\":{\"shape\":\"\"}},\"name\":\"Belo Horizonte\",\"offsetgroup\":\"Belo Horizonte\",\"orientation\":\"v\",\"showlegend\":true,\"textposition\":\"auto\",\"x\":[\"Belo Horizonte\"],\"xaxis\":\"x\",\"y\":[96679],\"yaxis\":\"y\",\"type\":\"bar\"},{\"alignmentgroup\":\"True\",\"hovertemplate\":\"Cidade=%{x}\\u003cbr\\u003eReceita=%{y}\\u003cextra\\u003e\\u003c\\u002fextra\\u003e\",\"legendgroup\":\"Curitiba\",\"marker\":{\"color\":\"#EF553B\",\"pattern\":{\"shape\":\"\"}},\"name\":\"Curitiba\",\"offsetgroup\":\"Curitiba\",\"orientation\":\"v\",\"showlegend\":true,\"textposition\":\"auto\",\"x\":[\"Curitiba\"],\"xaxis\":\"x\",\"y\":[66575],\"yaxis\":\"y\",\"type\":\"bar\"},{\"alignmentgroup\":\"True\",\"hovertemplate\":\"Cidade=%{x}\\u003cbr\\u003eReceita=%{y}\\u003cextra\\u003e\\u003c\\u002fextra\\u003e\",\"legendgroup\":\"Rio de Janeiro\",\"marker\":{\"color\":\"#00cc96\",\"pattern\":{\"shape\":\"\"}},\"name\":\"Rio de Janeiro\",\"offsetgroup\":\"Rio de Janeiro\",\"orientation\":\"v\",\"showlegend\":true,\"textposition\":\"auto\",\"x\":[\"Rio de Janeiro\"],\"xaxis\":\"x\",\"y\":[70292],\"yaxis\":\"y\",\"type\":\"bar\"},{\"alignmentgroup\":\"True\",\"hovertemplate\":\"Cidade=%{x}\\u003cbr\\u003eReceita=%{y}\\u003cextra\\u003e\\u003c\\u002fextra\\u003e\",\"legendgroup\":\"Salvador\",\"marker\":{\"color\":\"#ab63fa\",\"pattern\":{\"shape\":\"\"}},\"name\":\"Salvador\",\"offsetgroup\":\"Salvador\",\"orientation\":\"v\",\"showlegend\":true,\"textposition\":\"auto\",\"x\":[\"Salvador\"],\"xaxis\":\"x\",\"y\":[97645],\"yaxis\":\"y\",\"type\":\"bar\"},{\"alignmentgroup\":\"True\",\"hovertemplate\":\"Cidade=%{x}\\u003cbr\\u003eReceita=%{y}\\u003cextra\\u003e\\u003c\\u002fextra\\u003e\",\"legendgroup\":\"S\\u00e3o Paulo\",\"marker\":{\"color\":\"#FFA15A\",\"pattern\":{\"shape\":\"\"}},\"name\":\"S\\u00e3o Paulo\",\"offsetgroup\":\"S\\u00e3o Paulo\",\"orientation\":\"v\",\"showlegend\":true,\"textposition\":\"auto\",\"x\":[\"S\\u00e3o Paulo\"],\"xaxis\":\"x\",\"y\":[121108],\"yaxis\":\"y\",\"type\":\"bar\"}],                        {\"template\":{\"data\":{\"histogram2dcontour\":[{\"type\":\"histogram2dcontour\",\"colorbar\":{\"outlinewidth\":0,\"ticks\":\"\"},\"colorscale\":[[0.0,\"#0d0887\"],[0.1111111111111111,\"#46039f\"],[0.2222222222222222,\"#7201a8\"],[0.3333333333333333,\"#9c179e\"],[0.4444444444444444,\"#bd3786\"],[0.5555555555555556,\"#d8576b\"],[0.6666666666666666,\"#ed7953\"],[0.7777777777777778,\"#fb9f3a\"],[0.8888888888888888,\"#fdca26\"],[1.0,\"#f0f921\"]]}],\"choropleth\":[{\"type\":\"choropleth\",\"colorbar\":{\"outlinewidth\":0,\"ticks\":\"\"}}],\"histogram2d\":[{\"type\":\"histogram2d\",\"colorbar\":{\"outlinewidth\":0,\"ticks\":\"\"},\"colorscale\":[[0.0,\"#0d0887\"],[0.1111111111111111,\"#46039f\"],[0.2222222222222222,\"#7201a8\"],[0.3333333333333333,\"#9c179e\"],[0.4444444444444444,\"#bd3786\"],[0.5555555555555556,\"#d8576b\"],[0.6666666666666666,\"#ed7953\"],[0.7777777777777778,\"#fb9f3a\"],[0.8888888888888888,\"#fdca26\"],[1.0,\"#f0f921\"]]}],\"heatmap\":[{\"type\":\"heatmap\",\"colorbar\":{\"outlinewidth\":0,\"ticks\":\"\"},\"colorscale\":[[0.0,\"#0d0887\"],[0.1111111111111111,\"#46039f\"],[0.2222222222222222,\"#7201a8\"],[0.3333333333333333,\"#9c179e\"],[0.4444444444444444,\"#bd3786\"],[0.5555555555555556,\"#d8576b\"],[0.6666666666666666,\"#ed7953\"],[0.7777777777777778,\"#fb9f3a\"],[0.8888888888888888,\"#fdca26\"],[1.0,\"#f0f921\"]]}],\"heatmapgl\":[{\"type\":\"heatmapgl\",\"colorbar\":{\"outlinewidth\":0,\"ticks\":\"\"},\"colorscale\":[[0.0,\"#0d0887\"],[0.1111111111111111,\"#46039f\"],[0.2222222222222222,\"#7201a8\"],[0.3333333333333333,\"#9c179e\"],[0.4444444444444444,\"#bd3786\"],[0.5555555555555556,\"#d8576b\"],[0.6666666666666666,\"#ed7953\"],[0.7777777777777778,\"#fb9f3a\"],[0.8888888888888888,\"#fdca26\"],[1.0,\"#f0f921\"]]}],\"contourcarpet\":[{\"type\":\"contourcarpet\",\"colorbar\":{\"outlinewidth\":0,\"ticks\":\"\"}}],\"contour\":[{\"type\":\"contour\",\"colorbar\":{\"outlinewidth\":0,\"ticks\":\"\"},\"colorscale\":[[0.0,\"#0d0887\"],[0.1111111111111111,\"#46039f\"],[0.2222222222222222,\"#7201a8\"],[0.3333333333333333,\"#9c179e\"],[0.4444444444444444,\"#bd3786\"],[0.5555555555555556,\"#d8576b\"],[0.6666666666666666,\"#ed7953\"],[0.7777777777777778,\"#fb9f3a\"],[0.8888888888888888,\"#fdca26\"],[1.0,\"#f0f921\"]]}],\"surface\":[{\"type\":\"surface\",\"colorbar\":{\"outlinewidth\":0,\"ticks\":\"\"},\"colorscale\":[[0.0,\"#0d0887\"],[0.1111111111111111,\"#46039f\"],[0.2222222222222222,\"#7201a8\"],[0.3333333333333333,\"#9c179e\"],[0.4444444444444444,\"#bd3786\"],[0.5555555555555556,\"#d8576b\"],[0.6666666666666666,\"#ed7953\"],[0.7777777777777778,\"#fb9f3a\"],[0.8888888888888888,\"#fdca26\"],[1.0,\"#f0f921\"]]}],\"mesh3d\":[{\"type\":\"mesh3d\",\"colorbar\":{\"outlinewidth\":0,\"ticks\":\"\"}}],\"scatter\":[{\"fillpattern\":{\"fillmode\":\"overlay\",\"size\":10,\"solidity\":0.2},\"type\":\"scatter\"}],\"parcoords\":[{\"type\":\"parcoords\",\"line\":{\"colorbar\":{\"outlinewidth\":0,\"ticks\":\"\"}}}],\"scatterpolargl\":[{\"type\":\"scatterpolargl\",\"marker\":{\"colorbar\":{\"outlinewidth\":0,\"ticks\":\"\"}}}],\"bar\":[{\"error_x\":{\"color\":\"#2a3f5f\"},\"error_y\":{\"color\":\"#2a3f5f\"},\"marker\":{\"line\":{\"color\":\"#E5ECF6\",\"width\":0.5},\"pattern\":{\"fillmode\":\"overlay\",\"size\":10,\"solidity\":0.2}},\"type\":\"bar\"}],\"scattergeo\":[{\"type\":\"scattergeo\",\"marker\":{\"colorbar\":{\"outlinewidth\":0,\"ticks\":\"\"}}}],\"scatterpolar\":[{\"type\":\"scatterpolar\",\"marker\":{\"colorbar\":{\"outlinewidth\":0,\"ticks\":\"\"}}}],\"histogram\":[{\"marker\":{\"pattern\":{\"fillmode\":\"overlay\",\"size\":10,\"solidity\":0.2}},\"type\":\"histogram\"}],\"scattergl\":[{\"type\":\"scattergl\",\"marker\":{\"colorbar\":{\"outlinewidth\":0,\"ticks\":\"\"}}}],\"scatter3d\":[{\"type\":\"scatter3d\",\"line\":{\"colorbar\":{\"outlinewidth\":0,\"ticks\":\"\"}},\"marker\":{\"colorbar\":{\"outlinewidth\":0,\"ticks\":\"\"}}}],\"scattermapbox\":[{\"type\":\"scattermapbox\",\"marker\":{\"colorbar\":{\"outlinewidth\":0,\"ticks\":\"\"}}}],\"scatterternary\":[{\"type\":\"scatterternary\",\"marker\":{\"colorbar\":{\"outlinewidth\":0,\"ticks\":\"\"}}}],\"scattercarpet\":[{\"type\":\"scattercarpet\",\"marker\":{\"colorbar\":{\"outlinewidth\":0,\"ticks\":\"\"}}}],\"carpet\":[{\"aaxis\":{\"endlinecolor\":\"#2a3f5f\",\"gridcolor\":\"white\",\"linecolor\":\"white\",\"minorgridcolor\":\"white\",\"startlinecolor\":\"#2a3f5f\"},\"baxis\":{\"endlinecolor\":\"#2a3f5f\",\"gridcolor\":\"white\",\"linecolor\":\"white\",\"minorgridcolor\":\"white\",\"startlinecolor\":\"#2a3f5f\"},\"type\":\"carpet\"}],\"table\":[{\"cells\":{\"fill\":{\"color\":\"#EBF0F8\"},\"line\":{\"color\":\"white\"}},\"header\":{\"fill\":{\"color\":\"#C8D4E3\"},\"line\":{\"color\":\"white\"}},\"type\":\"table\"}],\"barpolar\":[{\"marker\":{\"line\":{\"color\":\"#E5ECF6\",\"width\":0.5},\"pattern\":{\"fillmode\":\"overlay\",\"size\":10,\"solidity\":0.2}},\"type\":\"barpolar\"}],\"pie\":[{\"automargin\":true,\"type\":\"pie\"}]},\"layout\":{\"autotypenumbers\":\"strict\",\"colorway\":[\"#636efa\",\"#EF553B\",\"#00cc96\",\"#ab63fa\",\"#FFA15A\",\"#19d3f3\",\"#FF6692\",\"#B6E880\",\"#FF97FF\",\"#FECB52\"],\"font\":{\"color\":\"#2a3f5f\"},\"hovermode\":\"closest\",\"hoverlabel\":{\"align\":\"left\"},\"paper_bgcolor\":\"white\",\"plot_bgcolor\":\"#E5ECF6\",\"polar\":{\"bgcolor\":\"#E5ECF6\",\"angularaxis\":{\"gridcolor\":\"white\",\"linecolor\":\"white\",\"ticks\":\"\"},\"radialaxis\":{\"gridcolor\":\"white\",\"linecolor\":\"white\",\"ticks\":\"\"}},\"ternary\":{\"bgcolor\":\"#E5ECF6\",\"aaxis\":{\"gridcolor\":\"white\",\"linecolor\":\"white\",\"ticks\":\"\"},\"baxis\":{\"gridcolor\":\"white\",\"linecolor\":\"white\",\"ticks\":\"\"},\"caxis\":{\"gridcolor\":\"white\",\"linecolor\":\"white\",\"ticks\":\"\"}},\"coloraxis\":{\"colorbar\":{\"outlinewidth\":0,\"ticks\":\"\"}},\"colorscale\":{\"sequential\":[[0.0,\"#0d0887\"],[0.1111111111111111,\"#46039f\"],[0.2222222222222222,\"#7201a8\"],[0.3333333333333333,\"#9c179e\"],[0.4444444444444444,\"#bd3786\"],[0.5555555555555556,\"#d8576b\"],[0.6666666666666666,\"#ed7953\"],[0.7777777777777778,\"#fb9f3a\"],[0.8888888888888888,\"#fdca26\"],[1.0,\"#f0f921\"]],\"sequentialminus\":[[0.0,\"#0d0887\"],[0.1111111111111111,\"#46039f\"],[0.2222222222222222,\"#7201a8\"],[0.3333333333333333,\"#9c179e\"],[0.4444444444444444,\"#bd3786\"],[0.5555555555555556,\"#d8576b\"],[0.6666666666666666,\"#ed7953\"],[0.7777777777777778,\"#fb9f3a\"],[0.8888888888888888,\"#fdca26\"],[1.0,\"#f0f921\"]],\"diverging\":[[0,\"#8e0152\"],[0.1,\"#c51b7d\"],[0.2,\"#de77ae\"],[0.3,\"#f1b6da\"],[0.4,\"#fde0ef\"],[0.5,\"#f7f7f7\"],[0.6,\"#e6f5d0\"],[0.7,\"#b8e186\"],[0.8,\"#7fbc41\"],[0.9,\"#4d9221\"],[1,\"#276419\"]]},\"xaxis\":{\"gridcolor\":\"white\",\"linecolor\":\"white\",\"ticks\":\"\",\"title\":{\"standoff\":15},\"zerolinecolor\":\"white\",\"automargin\":true,\"zerolinewidth\":2},\"yaxis\":{\"gridcolor\":\"white\",\"linecolor\":\"white\",\"ticks\":\"\",\"title\":{\"standoff\":15},\"zerolinecolor\":\"white\",\"automargin\":true,\"zerolinewidth\":2},\"scene\":{\"xaxis\":{\"backgroundcolor\":\"#E5ECF6\",\"gridcolor\":\"white\",\"linecolor\":\"white\",\"showbackground\":true,\"ticks\":\"\",\"zerolinecolor\":\"white\",\"gridwidth\":2},\"yaxis\":{\"backgroundcolor\":\"#E5ECF6\",\"gridcolor\":\"white\",\"linecolor\":\"white\",\"showbackground\":true,\"ticks\":\"\",\"zerolinecolor\":\"white\",\"gridwidth\":2},\"zaxis\":{\"backgroundcolor\":\"#E5ECF6\",\"gridcolor\":\"white\",\"linecolor\":\"white\",\"showbackground\":true,\"ticks\":\"\",\"zerolinecolor\":\"white\",\"gridwidth\":2}},\"shapedefaults\":{\"line\":{\"color\":\"#2a3f5f\"}},\"annotationdefaults\":{\"arrowcolor\":\"#2a3f5f\",\"arrowhead\":0,\"arrowwidth\":1},\"geo\":{\"bgcolor\":\"white\",\"landcolor\":\"#E5ECF6\",\"subunitcolor\":\"white\",\"showland\":true,\"showlakes\":true,\"lakecolor\":\"white\"},\"title\":{\"x\":0.05},\"mapbox\":{\"style\":\"light\"}}},\"xaxis\":{\"anchor\":\"y\",\"domain\":[0.0,1.0],\"title\":{\"text\":\"Cidade\"},\"categoryorder\":\"array\",\"categoryarray\":[\"Belo Horizonte\",\"Curitiba\",\"Rio de Janeiro\",\"Salvador\",\"S\\u00e3o Paulo\"]},\"yaxis\":{\"anchor\":\"x\",\"domain\":[0.0,1.0],\"title\":{\"text\":\"Receita\"}},\"legend\":{\"title\":{\"text\":\"Cidade\"},\"tracegroupgap\":0},\"title\":{\"text\":\"Receita Total por Cidade\"},\"barmode\":\"relative\"},                        {\"responsive\": true}                    ).then(function(){\n",
       "                            \n",
       "var gd = document.getElementById('3e786ee8-b485-4676-b388-5d7b90371e0d');\n",
       "var x = new MutationObserver(function (mutations, observer) {{\n",
       "        var display = window.getComputedStyle(gd).display;\n",
       "        if (!display || display === 'none') {{\n",
       "            console.log([gd, 'removed!']);\n",
       "            Plotly.purge(gd);\n",
       "            observer.disconnect();\n",
       "        }}\n",
       "}});\n",
       "\n",
       "// Listen for the removal of the full notebook cells\n",
       "var notebookContainer = gd.closest('#notebook-container');\n",
       "if (notebookContainer) {{\n",
       "    x.observe(notebookContainer, {childList: true});\n",
       "}}\n",
       "\n",
       "// Listen for the clearing of the current output cell\n",
       "var outputEl = gd.closest('.output');\n",
       "if (outputEl) {{\n",
       "    x.observe(outputEl, {childList: true});\n",
       "}}\n",
       "\n",
       "                        })                };                });            </script>        </div>"
      ]
     },
     "metadata": {},
     "output_type": "display_data"
    }
   ],
   "source": [
    "receita_cidade = data.groupby('cidade')['receita'].sum().reset_index()\n",
    "\n",
    "fig = px.bar(receita_cidade,\n",
    "            x='cidade',\n",
    "            y='receita',\n",
    "            title=\"Receita Total por Cidade\",\n",
    "            labels={'cidade': 'Cidade', 'receita': 'Receita'},\n",
    "            color='cidade')\n",
    "fig.show()"
   ]
  },
  {
   "cell_type": "markdown",
   "id": "3aec923b-7e0f-46ef-bf75-f2b10c172eb0",
   "metadata": {},
   "source": [
    "# 7. Conclusão\n",
    "\n",
    "Neste notebook, explorei várias técnicas de análise de dados com pandas, desde operações básicas até análises mais complexas. O uso de gráficos ajudou a visualizar e compreender melhor as tendências de vendas, clientes e produtos. O relatório final e o mini dashboard fornecem um resumo valioso dos insights obtidos durante a análise.\n",
    "\n",
    "Esse trabalho serve como um ponto de partida sólido para análise de vendas e pode ser expandido com análises mais profundas conforme necessário.\n"
   ]
  }
 ],
 "metadata": {
  "kernelspec": {
   "display_name": "Python 3 (ipykernel)",
   "language": "python",
   "name": "python3"
  },
  "language_info": {
   "codemirror_mode": {
    "name": "ipython",
    "version": 3
   },
   "file_extension": ".py",
   "mimetype": "text/x-python",
   "name": "python",
   "nbconvert_exporter": "python",
   "pygments_lexer": "ipython3",
   "version": "3.12.7"
  }
 },
 "nbformat": 4,
 "nbformat_minor": 5
}